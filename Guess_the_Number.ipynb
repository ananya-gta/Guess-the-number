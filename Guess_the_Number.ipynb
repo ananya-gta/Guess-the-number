{
  "nbformat": 4,
  "nbformat_minor": 0,
  "metadata": {
    "colab": {
      "name": "Guess the Number.ipynb",
      "provenance": [],
      "collapsed_sections": []
    },
    "kernelspec": {
      "name": "python3",
      "display_name": "Python 3"
    },
    "language_info": {
      "name": "python"
    }
  },
  "cells": [
    {
      "cell_type": "code",
      "metadata": {
        "colab": {
          "base_uri": "https://localhost:8080/"
        },
        "id": "lF4CRZThUWDn",
        "outputId": "628438a5-8bf4-43b7-f8dd-8e643bf2eab5"
      },
      "source": [
        "import random\n",
        "number= random.randint(1,10)\n",
        "print(\"You will have three chances to guess the correct number!\")\n",
        "for i in range(0,3):\n",
        "  user= int(input(\"Guess the Number: \"))\n",
        "  if user==number:\n",
        "    print(\"Hurray!\")\n",
        "    print(f\"you guessed the number right it's {number}\")\n",
        "    break\n",
        "if user != number:\n",
        "  print(f\"Your guess is incorrect. The correct number is {number}.\")"
      ],
      "execution_count": 3,
      "outputs": [
        {
          "output_type": "stream",
          "name": "stdout",
          "text": [
            "You will have three chances to guess the correct number!\n",
            "Guess the Number: 3\n",
            "Guess the Number: 5\n",
            "Guess the Number: 10\n",
            "Hurray!\n",
            "you guessed the number right it's 10\n"
          ]
        }
      ]
    }
  ]
}